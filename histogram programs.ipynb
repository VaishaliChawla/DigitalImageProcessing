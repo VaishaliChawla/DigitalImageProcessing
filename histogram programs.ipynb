{
 "cells": [
  {
   "cell_type": "code",
   "execution_count": 1,
   "metadata": {},
   "outputs": [
    {
     "ename": "ModuleNotFoundError",
     "evalue": "No module named 'cv2'",
     "output_type": "error",
     "traceback": [
      "\u001b[1;31m---------------------------------------------------------------------------\u001b[0m",
      "\u001b[1;31mModuleNotFoundError\u001b[0m                       Traceback (most recent call last)",
      "\u001b[1;32m<ipython-input-1-048785e780f9>\u001b[0m in \u001b[0;36m<module>\u001b[1;34m\u001b[0m\n\u001b[1;32m----> 1\u001b[1;33m \u001b[1;32mimport\u001b[0m \u001b[0mcv2\u001b[0m\u001b[1;33m\u001b[0m\u001b[1;33m\u001b[0m\u001b[0m\n\u001b[0m\u001b[0;32m      2\u001b[0m \u001b[1;32mfrom\u001b[0m \u001b[0mmatplotlib\u001b[0m \u001b[1;32mimport\u001b[0m \u001b[0mpyplot\u001b[0m \u001b[1;32mas\u001b[0m \u001b[0mplt\u001b[0m\u001b[1;33m\u001b[0m\u001b[1;33m\u001b[0m\u001b[0m\n\u001b[0;32m      3\u001b[0m \u001b[1;32mimport\u001b[0m \u001b[0mnumpy\u001b[0m \u001b[1;32mas\u001b[0m \u001b[0mnp\u001b[0m\u001b[1;33m\u001b[0m\u001b[1;33m\u001b[0m\u001b[0m\n",
      "\u001b[1;31mModuleNotFoundError\u001b[0m: No module named 'cv2'"
     ]
    }
   ],
   "source": [
    "import cv2\n",
    "from matplotlib import pyplot as plt\n",
    "import numpy as np"
   ]
  },
  {
   "cell_type": "code",
   "execution_count": 11,
   "metadata": {},
   "outputs": [],
   "source": [
    "\n",
    "def img_inp(file):\n",
    "    #file = 'gray.jpeg'\n",
    "    im = cv2.imread(file, cv2.IMREAD_GRAYSCALE)\n",
    "    #imp = plt.imshow(im)\n",
    "    #plt.axis(\"off\")\n",
    "    #plt.show()\n",
    "\n",
    "    r = np.array(range(0,256))\n",
    "    #print(intensities)\n",
    "\n",
    "    frequencies = [0]*256\n",
    "    #print(frequencies)\n",
    "\n",
    "    img_val = np.array(im, dtype = np.uint8)\n",
    "    #print(img_val.shape)\n",
    "    \n",
    "    rows,cols=img_val.shape\n",
    "\n",
    "    for m in range(rows):\n",
    "        for n in range(cols):\n",
    "            val = img_val[m][n]\n",
    "            frequencies[val] = frequencies[val] + 1\n",
    "    \n",
    "    return (im, r, frequencies, img_val)"
   ]
  },
  {
   "cell_type": "markdown",
   "metadata": {},
   "source": [
    "### Histogram of the image"
   ]
  },
  {
   "cell_type": "code",
   "execution_count": 28,
   "metadata": {},
   "outputs": [],
   "source": [
    "def img_hist(r, frequencies):\n",
    "    \n",
    "    #print(frequencies)\n",
    "\n",
    "    plt.bar(r, height=frequencies)\n",
    "    plt.title(\"Histogram of Input Image\")\n",
    "    plt.xlabel(\"Intensity levels\")\n",
    "    plt.ylabel(\"Frequency\")"
   ]
  },
  {
   "cell_type": "markdown",
   "metadata": {},
   "source": [
    "### Histogram Equalization"
   ]
  },
  {
   "cell_type": "code",
   "execution_count": 1,
   "metadata": {},
   "outputs": [],
   "source": [
    "def img_hist_eq(img_val, frequencies, r):\n",
    "    rows,cols = img_val.shape\n",
    "    img_size = rows*cols\n",
    "    \n",
    "    prob = [x/img_size for x in frequencies]\n",
    "    #print(prob)\n",
    "    #plt.bar(r, prob)\n",
    "    #plt.title(\"Input Image Histogram\")\n",
    "    #plt.xlabel(\"Input Intensity Levels - rk\")\n",
    "    #plt.ylabel(\"Probability of intensity level - P(rk)\")\n",
    "    return prob"
   ]
  },
  {
   "cell_type": "code",
   "execution_count": 2,
   "metadata": {},
   "outputs": [],
   "source": [
    "\n",
    "##beginning histogram equalization\n",
    "def hist_equ(prob):\n",
    "    s = [0]*256\n",
    "    for j in range(0,256):\n",
    "        s[j] = round(255*(sum(prob[0:(j+1)])))\n",
    "    \n",
    "    s_prob = [0]*256\n",
    "\n",
    "    i = 0\n",
    "    while(i<=255):\n",
    "        s_val = s[i]\n",
    "        sum_p = 0\n",
    "        while(i<=255 and s[i] == s_val):\n",
    "            sum_p = sum_p + prob[i]\n",
    "            i = i+1\n",
    "        s_prob[s_val] = sum_p\n",
    "    \n",
    "    #print(sum(s_prob))\n",
    "    #plt.bar(s, s_prob)\n",
    "    #plt.title(\"Equalized Histogram\")\n",
    "    #plt.xlabel(\"Output Intensity levels - sk\")\n",
    "    #plt.ylabel(\"Probability - P(sk)\")\n",
    "    \n",
    "    return (s,s_prob)"
   ]
  },
  {
   "cell_type": "code",
   "execution_count": 29,
   "metadata": {},
   "outputs": [],
   "source": [
    "def equalized_img(img_val, s):\n",
    "    rows,cols = img_val.shape\n",
    "\n",
    "    eq_img = np.array([[0]*rows]*cols)\n",
    "\n",
    "    eq_img.shape = rows,cols\n",
    "\n",
    "    for i in range(0,rows):\n",
    "        for j in range(0,cols):\n",
    "            eq_img[i][j] = s[img_val[i][j]]\n",
    "            \n",
    "    return eq_img"
   ]
  },
  {
   "cell_type": "code",
   "execution_count": null,
   "metadata": {},
   "outputs": [],
   "source": [
    "filename=\"gray.jpeg\"\n",
    "im, r, frequencies, img_val=img_inp(filename)\n",
    "\n",
    "r_pro = img_hist_eq(img_val, frequencies, r)"
   ]
  },
  {
   "cell_type": "code",
   "execution_count": null,
   "metadata": {},
   "outputs": [],
   "source": [
    "s, s_pro = hist_equ(r_pro)\n",
    "    \n",
    "eq_img = equalized_img(img_val, s)"
   ]
  },
  {
   "cell_type": "markdown",
   "metadata": {},
   "source": [
    "### Histogram matching"
   ]
  },
  {
   "cell_type": "code",
   "execution_count": null,
   "metadata": {},
   "outputs": [],
   "source": [
    "#input image equalized\n",
    "file1 = \"input.jpg\"\n",
    "im1, r, freq, img_val = img_inp(file1)\n",
    "r_prob = img_hist_eq(img_val, freq, r)\n",
    "s, s_pro = hist_equ(r_prob)\n",
    "\n",
    "#plt.bar(s, s_pro)\n",
    "#plt.title(\"Equalized histogram of input image\")\n",
    "#plt.show()\n",
    "\n",
    "plt.bar(r, r_prob)\n",
    "plt.title(\"histogram of input image\")\n",
    "plt.show()"
   ]
  },
  {
   "cell_type": "code",
   "execution_count": 35,
   "metadata": {},
   "outputs": [
    {
     "data": {
      "image/png": "[encoded data removed]",
      "text/plain": [
       "<Figure size 432x288 with 1 Axes>"
      ]
     },
     "metadata": {},
     "output_type": "display_data"
    }
   ],
   "source": [
    "#specified image\n",
    "file2 = \"spec.jpg\"\n",
    "im2, z, freq2, img_val2 = img_inp(file2)\n",
    "z_prob = img_hist_eq(img_val2, freq2, z)\n",
    "q, q_prob = hist_equ(z_prob)\n",
    "\n",
    "#plt.bar(q, q_prob)\n",
    "#plt.title(\"Equalized histogram of specified image\")\n",
    "#plt.show()\n",
    "\n",
    "plt.bar(z, z_prob)\n",
    "plt.title(\"histogram of specified image\")\n",
    "plt.show()"
   ]
  },
  {
   "cell_type": "code",
   "execution_count": 26,
   "metadata": {},
   "outputs": [],
   "source": [
    "zq = [0]*256\n",
    "for j in range(0,256):\n",
    "    #print(\"*s=\", item, \"    zq=\", q[min(range(len(q)), key = lambda i : abs(q[i]-item))])\n",
    "    zq[j] = min(range(len(q)), key = lambda i : abs(q[i]-s[j]))\n",
    "    \n",
    "    \n",
    "zq_prob = [0]*256\n",
    "for x in range(0,256):\n",
    "    zq_prob[x] = z_prob[zq[x]]"
   ]
  },
  {
   "cell_type": "code",
   "execution_count": 36,
   "metadata": {},
   "outputs": [
    {
     "data": {
      "image/png": "[encoded data removed]",
      "text/plain": [
       "<Figure size 432x288 with 1 Axes>"
      ]
     },
     "metadata": {},
     "output_type": "display_data"
    }
   ],
   "source": [
    "plt.bar(zq, zq_prob)\n",
    "plt.xlabel(\"Intensity values\")\n",
    "plt.ylabel(\"Prob of intensities\")\n",
    "plt.title(\"Histogram of matched image\")\n",
    "plt.show()"
   ]
  },
  {
   "cell_type": "code",
   "execution_count": null,
   "metadata": {},
   "outputs": [],
   "source": [
    "matched=equalized_img(img_val, zq)\n",
    "plt.imshow(matched)\n",
    "plt.axis(\"off\")\n",
    "plt.show()"
   ]
  },
  {
   "cell_type": "code",
   "execution_count": null,
   "metadata": {},
   "outputs": [],
   "source": [
    "!pip install opencv-python"
   ]
  }
 ],
 "metadata": {
  "kernelspec": {
   "display_name": "Python 3",
   "language": "python",
   "name": "python3"
  },
  "language_info": {
   "codemirror_mode": {
    "name": "ipython",
    "version": 3
   },
   "file_extension": ".py",
   "mimetype": "text/x-python",
   "name": "python",
   "nbconvert_exporter": "python",
   "pygments_lexer": "ipython3",
   "version": "3.7.3"
  }
 },
 "nbformat": 4,
 "nbformat_minor": 2
}
